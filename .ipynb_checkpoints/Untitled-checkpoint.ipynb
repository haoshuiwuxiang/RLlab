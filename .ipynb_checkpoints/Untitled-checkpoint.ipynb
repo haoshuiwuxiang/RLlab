{
 "cells": [
  {
   "cell_type": "code",
   "execution_count": 9,
   "metadata": {},
   "outputs": [
    {
     "name": "stdout",
     "output_type": "stream",
     "text": [
      "tensor(-2.0176)\n",
      "tensor(2.)\n"
     ]
    }
   ],
   "source": [
    "import torch\n",
    "import torch.distributions as tds\n",
    "\n",
    "\n",
    "a = torch.tensor(2, dtype = torch.float)\n",
    "b = torch.tensor(3, dtype = torch.float)\n",
    "\n",
    "m = tds.normal.Normal(loc = a, scale = b)\n",
    "\n",
    "print(m.log_prob(torch.tensor(2, dtype = torch.float)))\n",
    "print(m.mean)"
   ]
  },
  {
   "cell_type": "code",
   "execution_count": 11,
   "metadata": {},
   "outputs": [
    {
     "data": {
      "text/plain": [
       "tensor([[-1.7648, -1.6227],\n",
       "        [-1.7648, -1.6227]])"
      ]
     },
     "execution_count": 11,
     "metadata": {},
     "output_type": "execute_result"
    }
   ],
   "source": [
    "import torch\n",
    "import torch.nn as nn\n",
    "import torch.nn.functional as F\n",
    "import torch.distributions as tds\n",
    "\n",
    "class CAC_a_fc_network(nn.Module):\n",
    "    def __init__(self, input_dim, output_dim, action_low, action_high):\n",
    "        super(CAC_a_fc_network, self).__init__()\n",
    "        self.fc1 = nn.Linear(input_dim, 32)\n",
    "        self.fc2 = nn.Linear(32, 32)\n",
    "        self.fc3 = nn.Linear(32, output_dim)\n",
    "        \n",
    "        self.sigma = torch.ones((output_dim,1)) * 2\n",
    "        self.action_low, self.action_high = action_low, action_high\n",
    "    \n",
    "    def forward(self, s):\n",
    "        s = F.relu(self.fc1(s))\n",
    "        s = F.relu(self.fc2(s))\n",
    "        mu = self.fc3(s)\n",
    "        mu = torch.clamp(mu, self.action_low, self.action_high)\n",
    "        \n",
    "        print(mu)\n",
    "        print(self.sigma)\n",
    "        \n",
    "        m = tds.normal.Normal(loc = mu, scale = self.sigma)\n",
    "        \n",
    "        return m\n",
    "    \n",
    "test_network = CAC_a_fc_network(8,2,-1,1)\n",
    "a = torch.tensor([-1.0000, -0.1150])\n",
    "test_network(torch.tensor([1,2,3,4,5,6,7,8], dtype = torch.float)).log_prob(a)"
   ]
  },
  {
   "cell_type": "code",
   "execution_count": null,
   "metadata": {},
   "outputs": [],
   "source": []
  }
 ],
 "metadata": {
  "kernelspec": {
   "display_name": "Python 3",
   "language": "python",
   "name": "python3"
  },
  "language_info": {
   "codemirror_mode": {
    "name": "ipython",
    "version": 3
   },
   "file_extension": ".py",
   "mimetype": "text/x-python",
   "name": "python",
   "nbconvert_exporter": "python",
   "pygments_lexer": "ipython3",
   "version": "3.6.4"
  }
 },
 "nbformat": 4,
 "nbformat_minor": 2
}
